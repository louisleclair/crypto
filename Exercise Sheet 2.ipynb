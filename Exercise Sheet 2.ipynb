{
 "cells": [
  {
   "cell_type": "markdown",
   "metadata": {},
   "source": [
    "# Exercise 1: Coprime"
   ]
  },
  {
   "cell_type": "code",
   "execution_count": 1,
   "metadata": {},
   "outputs": [],
   "source": [
    "def mycoprime(N):\n",
    "    coprime = []\n",
    "    for i in range(1, N):\n",
    "        if math.gcd(i, N) == 1:\n",
    "            coprime.append(i)\n",
    "    return coprime"
   ]
  },
  {
   "cell_type": "code",
   "execution_count": 2,
   "metadata": {},
   "outputs": [],
   "source": [
    "#Correction \n",
    "def yourCoprime(N):\n",
    "    return [x for x in range(N) if gcd(x, N) == 1]"
   ]
  },
  {
   "cell_type": "code",
   "execution_count": 3,
   "metadata": {},
   "outputs": [
    {
     "name": "stdout",
     "output_type": "stream",
     "text": [
      "True\n"
     ]
    }
   ],
   "source": [
    "#sage method to return coprime element to a given integer\n",
    "co = Zmod(100).list_of_elements_of_multiplicative_group()\n",
    "#compare my method and sage method\n",
    "print(mycoprime(100) == co)"
   ]
  },
  {
   "cell_type": "markdown",
   "metadata": {},
   "source": [
    "# Exercise 2: Goldbach Conjecture"
   ]
  },
  {
   "cell_type": "code",
   "execution_count": 4,
   "metadata": {},
   "outputs": [],
   "source": [
    "# Question 1\n",
    "def checkGoldbach(evenInts):\n",
    "    for i in evenInts:\n",
    "        if i % 2 != 0 or i <= 2:\n",
    "            return False\n",
    "        else:\n",
    "            prime = list(primes(1, i))\n",
    "            check = False\n",
    "            for j in prime:\n",
    "                for k in prime:\n",
    "                    if k + j == i:\n",
    "                        check = True\n",
    "                        break\n",
    "                if check:\n",
    "                    break\n",
    "            if not check:\n",
    "                return check\n",
    "    return check        "
   ]
  },
  {
   "cell_type": "code",
   "execution_count": 5,
   "metadata": {},
   "outputs": [
    {
     "name": "stdout",
     "output_type": "stream",
     "text": [
      "True\n"
     ]
    }
   ],
   "source": [
    "#first 1000 even integer \n",
    "evenInts = [x for x in range(3, 1000) if x%2 == 0]\n",
    "print(checkGoldbach(evenInts))"
   ]
  },
  {
   "cell_type": "code",
   "execution_count": 6,
   "metadata": {},
   "outputs": [
    {
     "data": {
      "text/plain": [
       "True"
      ]
     },
     "execution_count": 6,
     "metadata": {},
     "output_type": "execute_result"
    }
   ],
   "source": [
    "#Correction\n",
    "def GoldbachConjecture(N):\n",
    "    if (N%2 != 0 or N < 4):\n",
    "        print(\"N should be even and bigger than 2\")\n",
    "    else:\n",
    "        return exists(range(2, N/2 + 2), lambda x: is_prime(x) and is_prime(N - x))[0]\n",
    "GoldbachConjecture(100)"
   ]
  },
  {
   "cell_type": "code",
   "execution_count": 7,
   "metadata": {},
   "outputs": [],
   "source": [
    "#Question 2\n",
    "def pairGoldbach(evenInt):\n",
    "    prime = list(primes(1, evenInt))\n",
    "    all_prime_pairs = []\n",
    "    for i in prime:\n",
    "        for j in prime:\n",
    "            if i + j == evenInt:\n",
    "                if i > j:\n",
    "                    i, j = j, i\n",
    "                if (i, j) not in all_prime_pairs:\n",
    "                    all_prime_pairs.append((i, j))\n",
    "    return all_prime_pairs\n",
    "                \n",
    "    "
   ]
  },
  {
   "cell_type": "code",
   "execution_count": 8,
   "metadata": {},
   "outputs": [],
   "source": [
    "def pairGoldbachBis(N):\n",
    "    return [(x, N-x) for x in range(2, N/2 + 1) if is_prime(x) and is_prime(N-x)]"
   ]
  },
  {
   "cell_type": "code",
   "execution_count": 9,
   "metadata": {},
   "outputs": [
    {
     "name": "stdout",
     "output_type": "stream",
     "text": [
      "[(3, 97), (11, 89), (17, 83), (29, 71), (41, 59), (47, 53)]\n",
      "[(3, 97), (11, 89), (17, 83), (29, 71), (41, 59), (47, 53)]\n"
     ]
    }
   ],
   "source": [
    "print(pairGoldbach(100))\n",
    "print(pairGoldbachBis(100))"
   ]
  },
  {
   "cell_type": "code",
   "execution_count": 10,
   "metadata": {},
   "outputs": [
    {
     "data": {
      "text/plain": [
       "<map object at 0x347da1da0>"
      ]
     },
     "execution_count": 10,
     "metadata": {},
     "output_type": "execute_result"
    }
   ],
   "source": [
    "#Correction\n",
    "def GoldbachList(N):\n",
    "    if (N%2 != 0 or N < 4):\n",
    "        print(\"N should be even and bigger than 2\")\n",
    "    else:\n",
    "        return map(lambda n:[n, N-n], filter(lambda x: is_prime(x) and is_prime(N-x), range(2, N/2 + 1)))\n",
    "GoldbachList(100)"
   ]
  },
  {
   "cell_type": "code",
   "execution_count": 11,
   "metadata": {},
   "outputs": [
    {
     "name": "stdout",
     "output_type": "stream",
     "text": [
      "[3, 97]\n",
      "[11, 89]\n",
      "[17, 83]\n",
      "[29, 71]\n",
      "[41, 59]\n",
      "[47, 53]\n"
     ]
    }
   ],
   "source": [
    "for i in map(lambda n: [n, 100-n], filter(lambda x: is_prime(x) and is_prime(100-x), range(2, 51))):\n",
    "    print(i)"
   ]
  },
  {
   "cell_type": "markdown",
   "metadata": {},
   "source": [
    "# Exercise 3: Multiplicative Group"
   ]
  },
  {
   "cell_type": "code",
   "execution_count": 12,
   "metadata": {},
   "outputs": [],
   "source": [
    "def ringZ(N):\n",
    "    z = Integers(N)\n",
    "    if z.multiplicative_group_is_cyclic():\n",
    "        gen = z.multiplicative_generator()\n",
    "        print(gen)"
   ]
  },
  {
   "cell_type": "code",
   "execution_count": 34,
   "metadata": {},
   "outputs": [],
   "source": [
    "#Correction\n",
    "def groups(N):\n",
    "    F = Integers(N)\n",
    "    if F.multiplicative_group_is_cyclic():\n",
    "        print(\"The group is cyclic\")\n",
    "    else:\n",
    "        print(\"The group is not cyclic\")\n",
    "    gs = F.unit_gens()\n",
    "    print(gs) #print generators of the group unit (the group of N with only invertible elements)\n",
    "    G = [1]\n",
    "    for x in gs:\n",
    "        new = []\n",
    "        # multiplicative order is the smallest i s.t. x^i mod N = 1\n",
    "        for i in range(1, x.multiplicative_order()):\n",
    "            for a in G:\n",
    "                new.append(x^i*a)\n",
    "        G.extend(new)\n",
    "    G.sort()\n",
    "    x = G[randint(0, len(G) - 1)]\n",
    "    print(G)\n",
    "    print(f\"Lagrange's theorem is {len(G) % x.multiplicative_order() == 0}\")\n",
    "    "
   ]
  },
  {
   "cell_type": "code",
   "execution_count": 35,
   "metadata": {},
   "outputs": [
    {
     "name": "stdout",
     "output_type": "stream",
     "text": [
      "The group is not cyclic\n",
      "(23, 45, 57)\n",
      "[1, 3, 5, 7, 9, 13, 15, 17, 19, 21, 23, 25, 27, 29, 31, 35, 37, 39, 41, 43, 45, 47, 49, 51, 53, 57, 59, 61, 63, 65, 67, 69, 71, 73, 75, 79, 81, 83, 85, 87]\n",
      "Lagrange's theorem is True\n"
     ]
    }
   ],
   "source": [
    "groups(88)"
   ]
  },
  {
   "cell_type": "markdown",
   "metadata": {},
   "source": [
    "# Exercise 4: Perfect Power"
   ]
  },
  {
   "cell_type": "code",
   "execution_count": 43,
   "metadata": {},
   "outputs": [],
   "source": [
    "def perfectPower(n):\n",
    "    x = Integer(2)\n",
    "    while x < sqrt(n):\n",
    "        b = log(n, x)\n",
    "        if type(b) == Integer and x ** b == n:\n",
    "            return (x, b)\n",
    "        else:\n",
    "            x += 1\n",
    "    return False"
   ]
  },
  {
   "cell_type": "code",
   "execution_count": 44,
   "metadata": {},
   "outputs": [
    {
     "name": "stdout",
     "output_type": "stream",
     "text": [
      "(34567, 7)\n"
     ]
    }
   ],
   "source": [
    "print(perfectPower(58970095006532229779230122168823))"
   ]
  },
  {
   "cell_type": "code",
   "execution_count": 45,
   "metadata": {},
   "outputs": [
    {
     "name": "stdout",
     "output_type": "stream",
     "text": [
      "(123, 1237)\n"
     ]
    }
   ],
   "source": [
    "print(perfectPower(123**1237))"
   ]
  },
  {
   "cell_type": "code",
   "execution_count": 46,
   "metadata": {},
   "outputs": [
    {
     "name": "stdout",
     "output_type": "stream",
     "text": [
      "False\n"
     ]
    }
   ],
   "source": [
    "print(perfectPower(456456456))"
   ]
  },
  {
   "cell_type": "code",
   "execution_count": 36,
   "metadata": {},
   "outputs": [],
   "source": [
    "#Correction\n",
    "def binarySearch(n, b):\n",
    "    l = 1\n",
    "    u = 2^(floor(log(n, 2)/b) + 1)\n",
    "    while(l <= u):\n",
    "        x = floor((l+u)/2)\n",
    "        y = x^b\n",
    "        if y == n:\n",
    "            return x\n",
    "        elif y<n:\n",
    "            l = x + 1\n",
    "        else:\n",
    "            u = x - 1\n",
    "    return False\n",
    "\n",
    "def PerfectPower(n):\n",
    "    if n == 1:\n",
    "        return (1, 2)\n",
    "    \n",
    "    val = binarySearch(n, 2)\n",
    "    if val:\n",
    "        return (val, 2)\n",
    "    \n",
    "    b = 3\n",
    "    upperbound = ceil(log(n, 2))\n",
    "    while b <= upperbound:\n",
    "        if is_prime(b):\n",
    "            val = binarySearch(n, b)\n",
    "            if val: \n",
    "                return (val, b)\n",
    "        b += 2\n",
    "    return False\n",
    "    "
   ]
  },
  {
   "cell_type": "code",
   "execution_count": 37,
   "metadata": {},
   "outputs": [
    {
     "name": "stdout",
     "output_type": "stream",
     "text": [
      "(34567, 7)\n",
      "(123, 1237)\n",
      "False\n"
     ]
    }
   ],
   "source": [
    "print(PerfectPower(58970095006532229779230122168823))\n",
    "print(PerfectPower(123**1237))\n",
    "print(PerfectPower(456456456))"
   ]
  },
  {
   "cell_type": "code",
   "execution_count": null,
   "metadata": {},
   "outputs": [],
   "source": []
  }
 ],
 "metadata": {
  "kernelspec": {
   "display_name": "SageMath 9.0",
   "language": "sage",
   "name": "sagemath"
  },
  "language_info": {
   "codemirror_mode": {
    "name": "ipython",
    "version": 3
   },
   "file_extension": ".py",
   "mimetype": "text/x-python",
   "name": "python",
   "nbconvert_exporter": "python",
   "pygments_lexer": "ipython3",
   "version": "3.7.3"
  }
 },
 "nbformat": 4,
 "nbformat_minor": 2
}
